{
 "cells": [
  {
   "cell_type": "markdown",
   "metadata": {},
   "source": [
    "# Flappy Bird AI\n",
    "This is the code I will use to build a Flappy Bird AI."
   ]
  },
  {
   "cell_type": "code",
   "execution_count": 1,
   "metadata": {},
   "outputs": [
    {
     "name": "stdout",
     "output_type": "stream",
     "text": [
      "Is MPS available? True\n"
     ]
    }
   ],
   "source": [
    "import torch\n",
    "print(f\"Is MPS available? {torch.backends.mps.is_available()}\")"
   ]
  },
  {
   "cell_type": "code",
   "execution_count": 2,
   "metadata": {},
   "outputs": [
    {
     "name": "stdout",
     "output_type": "stream",
     "text": [
      "tensor([[ 1.0947e-01, -6.2338e-01,  2.7689e-01,  2.1365e-01,  1.2099e-01,\n",
      "          1.9511e+00,  9.0018e-01, -3.0071e-01, -1.7677e-01,  2.5690e-03],\n",
      "        [ 3.3399e-02,  9.5133e-01,  3.4402e-01,  9.0030e-01, -3.5937e-01,\n",
      "          1.9056e-01, -3.8327e-01, -3.8087e-01, -1.2658e+00, -6.0818e-01],\n",
      "        [-7.1386e-01,  1.7593e+00,  2.9356e-02,  4.8946e-01,  1.1849e+00,\n",
      "          1.2254e+00,  1.6187e+00,  4.7985e-01,  1.1788e+00,  4.9500e-01],\n",
      "        [ 4.7166e-01,  2.0630e+00,  1.2616e+00,  1.4355e+00,  4.0430e-01,\n",
      "          1.4695e+00, -1.1346e+00, -1.3606e+00,  9.6863e-01,  4.7124e-01],\n",
      "        [ 4.1006e-01,  7.2959e-01, -1.7043e-01, -1.5508e-01, -3.0340e-01,\n",
      "         -6.2051e-01,  9.0153e-01,  1.4091e-01, -1.6290e+00, -5.5004e-01],\n",
      "        [ 6.5426e-01, -7.8753e-01,  1.4838e-01, -5.9511e-02, -1.4850e+00,\n",
      "         -2.2464e-01,  1.1388e+00,  6.1160e-01, -4.2500e-01,  2.2989e-01],\n",
      "        [ 1.6015e+00,  9.0540e-01, -3.7827e-01,  7.7757e-01, -1.4064e+00,\n",
      "          8.9033e-01,  4.9170e-01,  1.1773e+00, -1.4456e+00, -1.1427e-01],\n",
      "        [-1.5215e+00,  1.1539e+00,  7.0917e-01, -1.1286e+00,  8.4570e-01,\n",
      "         -1.2034e-01, -8.0219e-01,  1.0127e+00, -1.2674e+00, -8.1224e-01],\n",
      "        [ 4.9594e-01,  1.3249e+00,  4.2761e-01, -2.8104e-01,  6.9098e-01,\n",
      "          5.9714e-01,  1.0423e+00,  1.4676e+00, -8.9246e-01, -3.6128e-01],\n",
      "        [-9.9842e-02,  9.0686e-01,  2.3216e-01,  1.2430e+00,  1.7303e+00,\n",
      "          7.8586e-01,  4.1989e-01, -3.2159e+00, -3.5414e-02, -1.5552e+00]],\n",
      "       device='mps:0')\n"
     ]
    }
   ],
   "source": [
    "device = torch.device(\"mps\" if torch.backends.mps.is_available() else \"cpu\")\n",
    "tensor = torch.randn(10, 10).to(device)\n",
    "print(tensor)"
   ]
  },
  {
   "cell_type": "code",
   "execution_count": null,
   "metadata": {},
   "outputs": [],
   "source": []
  }
 ],
 "metadata": {
  "kernelspec": {
   "display_name": "flappy_ai",
   "language": "python",
   "name": "python3"
  },
  "language_info": {
   "codemirror_mode": {
    "name": "ipython",
    "version": 3
   },
   "file_extension": ".py",
   "mimetype": "text/x-python",
   "name": "python",
   "nbconvert_exporter": "python",
   "pygments_lexer": "ipython3",
   "version": "3.12.9"
  }
 },
 "nbformat": 4,
 "nbformat_minor": 2
}
